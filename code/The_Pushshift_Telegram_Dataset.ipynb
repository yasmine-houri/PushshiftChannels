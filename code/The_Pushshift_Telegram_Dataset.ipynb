{
 "cells": [
  {
   "cell_type": "markdown",
   "metadata": {},
   "source": [
    "# Read the Pushshift Telegram Dataset (also exists for Reddit)"
   ]
  },
  {
   "cell_type": "code",
   "execution_count": 2,
   "metadata": {
    "scrolled": true
   },
   "outputs": [],
   "source": [
    "# %pip install --user zstandard"
   ]
  },
  {
   "cell_type": "code",
   "execution_count": 3,
   "metadata": {},
   "outputs": [],
   "source": [
    "import pandas as pd\n",
    "import zstandard as zstd\n",
    "import json"
   ]
  },
  {
   "cell_type": "code",
   "execution_count": 4,
   "metadata": {},
   "outputs": [
    {
     "data": {
      "text/plain": [
       "'C:\\\\Users\\\\HP\\\\PhD\\\\PushshiftChannels'"
      ]
     },
     "execution_count": 4,
     "metadata": {},
     "output_type": "execute_result"
    }
   ],
   "source": [
    "import os\n",
    "os.getcwd()"
   ]
  },
  {
   "cell_type": "code",
   "execution_count": 5,
   "metadata": {},
   "outputs": [],
   "source": [
    "# Create Zreader class because Zreader module will not load (https://github.com/pushshift/zreader)\n",
    "\n",
    "class Zreader:\n",
    "\n",
    "    def __init__(self, file, chunk_size=16384):\n",
    "        '''Init method'''\n",
    "        self.fh = open(file,'rb')\n",
    "        self.chunk_size = chunk_size\n",
    "        self.dctx = zstd.ZstdDecompressor()\n",
    "        self.reader = self.dctx.stream_reader(self.fh)\n",
    "        self.buffer = ''\n",
    "\n",
    "\n",
    "    def readlines(self):\n",
    "        '''Generator method that creates an iterator for each line of JSON'''\n",
    "        while True:\n",
    "            chunk = self.reader.read(self.chunk_size).decode('utf-8', 'ignore')\n",
    "            if not chunk:\n",
    "                break\n",
    "            lines = (self.buffer + chunk).split(\"\\n\")\n",
    "\n",
    "            for line in lines[:-1]:\n",
    "                yield line\n",
    "\n",
    "            self.buffer = lines[-1]"
   ]
  },
  {
   "cell_type": "markdown",
   "metadata": {},
   "source": [
    "Channels"
   ]
  },
  {
   "cell_type": "code",
   "execution_count": 9,
   "metadata": {},
   "outputs": [],
   "source": [
    "# Channels\n",
    "\n",
    "\n",
    "file = \"D:\\._PhD\\Literature\\Telegram\\Data\\The Pushshift Telegram Dataset\\channels.ndjson.zst\"\n",
    "# Adjust chunk_size as necessary -- defaults to 16,384 if not specified\n",
    "reader = Zreader(file)\n",
    "\n",
    "# Read each line from the reader\n",
    "channels = {}\n",
    "i=0\n",
    "for line in reader.readlines():\n",
    "    obj = json.loads(line)\n",
    "    channels[i] = obj\n",
    "#     print(obj)\n",
    "    i+=1"
   ]
  },
  {
   "cell_type": "code",
   "execution_count": 57,
   "metadata": {},
   "outputs": [
    {
     "data": {
      "text/plain": [
       "27946"
      ]
     },
     "execution_count": 57,
     "metadata": {},
     "output_type": "execute_result"
    }
   ],
   "source": [
    "len(channels)"
   ]
  },
  {
   "cell_type": "markdown",
   "metadata": {},
   "source": [
    "Messages"
   ]
  },
  {
   "cell_type": "code",
   "execution_count": 53,
   "metadata": {},
   "outputs": [],
   "source": [
    "# # Messages\n",
    "\n",
    "# file = \"D:\\._PhD\\Literature\\Telegram\\Data\\The Pushshift Telegram Dataset\\messages.ndjson.zst\"\n",
    "# # Adjust chunk_size as necessary -- defaults to 16,384 if not specified\n",
    "# reader = Zreader(file, chunk_size=3)\n",
    "\n",
    "# # Read each line from the reader\n",
    "# messages = {}\n",
    "# i=0\n",
    "# for line in reader.readlines():\n",
    "#     obj = json.loads(line)\n",
    "#     messages[i] = obj\n",
    "#     # print(obj)\n",
    "#     i+=1"
   ]
  },
  {
   "cell_type": "code",
   "execution_count": 54,
   "metadata": {},
   "outputs": [
    {
     "name": "stderr",
     "output_type": "stream",
     "text": [
      "\n",
      "KeyboardInterrupt\n",
      "\n"
     ]
    }
   ],
   "source": [
    "import ujson\n",
    "import zstandard\n",
    "\n",
    "# Define the features you're interested in\n",
    "features_of_interest = ['to_id', 'fwd_from', 'id', 'message']\n",
    "\n",
    "# Create an empty dictionary to store the filtered records\n",
    "filtered_records = {}\n",
    "\n",
    "# Open the compressed file for reading\n",
    "with open('D:\\._PhD\\Literature\\Telegram\\Data\\The Pushshift Telegram Dataset\\messages.ndjson.zst', 'rb') as compressed_file:\n",
    "    # Create a zstd decompressor\n",
    "    decompressor = zstandard.ZstdDecompressor()\n",
    "\n",
    "    # Open a decompression stream\n",
    "    with decompressor.stream_reader(compressed_file) as reader:\n",
    "        buffer = b\"\"  # Initialize an empty buffer to accumulate data\n",
    "        \n",
    "        while True:\n",
    "            # Read a chunk of data\n",
    "            chunk = reader.read(4096)  # Adjust buffer size as needed\n",
    "            \n",
    "            # If no more data is available, break the loop\n",
    "            if not chunk:\n",
    "                break\n",
    "            \n",
    "            buffer += chunk  # Append the chunk to the buffer\n",
    "            \n",
    "            # Split the buffer into lines\n",
    "            while b'\\n' in buffer:\n",
    "                # Extract the next line from the buffer\n",
    "                line, buffer = buffer.split(b'\\n', 1)\n",
    "                \n",
    "                # Decode the line from bytes to string\n",
    "                line_str = line.decode('utf-8')\n",
    "                \n",
    "                try:\n",
    "                    # Parse the JSON record using ujson\n",
    "                    record = ujson.loads(line_str)\n",
    "                    \n",
    "                    # Filter the record to include only the features of interest\n",
    "                    filtered_record = {key: record[key] for key in features_of_interest if key in record}\n",
    "                    \n",
    "                    # Store the filtered record in the dictionary\n",
    "                    # You can choose a unique identifier for each record as the key\n",
    "                    # Here, we're using the index of the record as the key\n",
    "                    filtered_records[len(filtered_records)] = filtered_record\n",
    "                except ValueError:\n",
    "                    print(\"Error decoding JSON:\", line_str)  # Handle JSON decoding errors\n"
   ]
  },
  {
   "cell_type": "code",
   "execution_count": 56,
   "metadata": {},
   "outputs": [
    {
     "data": {
      "text/plain": [
       "5036723"
      ]
     },
     "execution_count": 56,
     "metadata": {},
     "output_type": "execute_result"
    }
   ],
   "source": [
    "len(filtered_records)"
   ]
  },
  {
   "cell_type": "code",
   "execution_count": 48,
   "metadata": {},
   "outputs": [
    {
     "data": {
      "text/plain": [
       "[{'_': 'PeerChannel', 'channel_id': 1271719213},\n",
       " None,\n",
       " 23831,\n",
       " 'https://www.bitchute.com/video/VjCxvmWj6mvG/']"
      ]
     },
     "execution_count": 48,
     "metadata": {},
     "output_type": "execute_result"
    }
   ],
   "source": [
    "filtered_records[0]"
   ]
  },
  {
   "cell_type": "code",
   "execution_count": null,
   "metadata": {},
   "outputs": [],
   "source": []
  }
 ],
 "metadata": {
  "kernelspec": {
   "display_name": "Python 3 (ipykernel)",
   "language": "python",
   "name": "python3"
  },
  "language_info": {
   "codemirror_mode": {
    "name": "ipython",
    "version": 3
   },
   "file_extension": ".py",
   "mimetype": "text/x-python",
   "name": "python",
   "nbconvert_exporter": "python",
   "pygments_lexer": "ipython3",
   "version": "3.9.13"
  }
 },
 "nbformat": 4,
 "nbformat_minor": 4
}
